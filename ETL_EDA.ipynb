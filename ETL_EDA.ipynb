{
 "cells": [
  {
   "cell_type": "code",
   "execution_count": 1,
   "metadata": {},
   "outputs": [
    {
     "name": "stdout",
     "output_type": "stream",
     "text": [
      "DateTime_Measured,Total_Demand_KW\n",
      "2019-12-08 15:45:00,1347\n",
      "2019-12-08 15:30:00,1336\n",
      "2019-12-08 15:15:00,1332\n",
      "2019-12-08 15:00:00,1336\n",
      "2019-12-08 14:45:00,1324\n",
      "2019-12-08 14:30:00,1328\n",
      "2019-12-08 14:15:00,1324\n",
      "2019-12-08 14:00:00,1328\n",
      "2019-12-08 13:45:00,1324\n",
      "2019-12-08 13:30:00,1332\n",
      "2019-12-08 13:15:00,1328\n",
      "2019-12-08 13:00:00,1340\n",
      "2019-12-08 12:45:00,1336\n",
      "2019-12-08 12:30:00,1332\n",
      "2019-12-08 12:15:00,1328\n",
      "2019-12-08 12:00:00,1336\n",
      "2019-12-08 11:45:00,1340\n",
      "2019-12-08 11:30:00,1332\n",
      "2019-12-08 11:15:00,1347\n",
      "2019-12-08 11:00:00,1347\n",
      "2019-12-08 10:45:00,1336\n",
      "2019-12-08 10:30:00,1340\n",
      "2019-12-08 10:15:00,1344\n",
      "2019-12-08 10:00:00,1336\n",
      "2019-12-08 09:45:00,1328\n",
      "2019-12-08 09:30:00,1340\n",
      "2019-12-08 09:15:00,1344\n",
      "2019-12-08 09:00:00,1336\n",
      "2019-12-08 08:45:00,1332\n",
      "2019-12-08 08:30:00,1347\n",
      "2019-12-08 08:15:00,1351\n",
      "2019-12-08 08:00:00,1344\n",
      "2019-12-08 07:45:00,1340\n",
      "2019-12-08 07:30:00,1336\n",
      "2019-12-08 07:15:00,1355\n",
      "2019-12-08 07:00:00,1336\n",
      "2019-12-08 06:45:00,1336\n",
      "2019-12-08 06:30:00,1332\n",
      "2019-12-08 06:15\n",
      "...\n",
      "2016-10-27 14:15:00,1720\n",
      "2016-10-27 14:00:00,1735\n",
      "2016-10-27 13:45:00,1708\n",
      "2016-10-27 13:30:00,1731\n",
      "2016-10-27 13:15:00,1728\n",
      "2016-10-27 13:00:00,1701\n",
      "2016-10-27 12:45:00,1712\n",
      "2016-10-27 12:30:00,1712\n",
      "2016-10-27 12:15:00,1720\n",
      "2016-10-27 12:00:00,1731\n",
      "2016-10-27 11:45:00,1720\n",
      "2016-10-27 11:30:00,1728\n",
      "2016-10-27 11:15:00,1751\n",
      "2016-10-27 11:00:00,1758\n",
      "2016-10-27 10:45:00,1743\n",
      "2016-10-27 10:30:00,1739\n",
      "2016-10-27 10:15:00,1724\n",
      "2016-10-27 10:00:00,1731\n",
      "2016-10-27 09:45:00,1724\n",
      "2016-10-27 09:30:00,1716\n",
      "\n"
     ]
    }
   ],
   "source": [
    "import requests\n",
    "\n",
    "url ='https://data.boston.gov/dataset/1b894599-21ff-478f-937d-653954977951/resource/f123e65d-dc0e-4c83-9348-ed46fec498c0/download/tmpm6_yf0qo.csv'\n",
    "req = requests.get(url, timeout=3, allow_redirects=True)\n",
    "req.raise_for_status()\n",
    "text = req.text\n",
    "print(text[:1000])\n",
    "print('...')\n",
    "print(text[-500:])"
   ]
  },
  {
   "cell_type": "code",
   "execution_count": 2,
   "metadata": {
    "scrolled": true
   },
   "outputs": [
    {
     "data": {
      "text/html": [
       "<div>\n",
       "<style scoped>\n",
       "    .dataframe tbody tr th:only-of-type {\n",
       "        vertical-align: middle;\n",
       "    }\n",
       "\n",
       "    .dataframe tbody tr th {\n",
       "        vertical-align: top;\n",
       "    }\n",
       "\n",
       "    .dataframe thead th {\n",
       "        text-align: right;\n",
       "    }\n",
       "</style>\n",
       "<table border=\"1\" class=\"dataframe\">\n",
       "  <thead>\n",
       "    <tr style=\"text-align: right;\">\n",
       "      <th></th>\n",
       "      <th>DateTime_Measured</th>\n",
       "      <th>Total_Demand_KW</th>\n",
       "    </tr>\n",
       "  </thead>\n",
       "  <tbody>\n",
       "    <tr>\n",
       "      <th>0</th>\n",
       "      <td>2019-12-08 15:45:00</td>\n",
       "      <td>1347</td>\n",
       "    </tr>\n",
       "    <tr>\n",
       "      <th>1</th>\n",
       "      <td>2019-12-08 15:30:00</td>\n",
       "      <td>1336</td>\n",
       "    </tr>\n",
       "    <tr>\n",
       "      <th>2</th>\n",
       "      <td>2019-12-08 15:15:00</td>\n",
       "      <td>1332</td>\n",
       "    </tr>\n",
       "    <tr>\n",
       "      <th>3</th>\n",
       "      <td>2019-12-08 15:00:00</td>\n",
       "      <td>1336</td>\n",
       "    </tr>\n",
       "    <tr>\n",
       "      <th>4</th>\n",
       "      <td>2019-12-08 14:45:00</td>\n",
       "      <td>1324</td>\n",
       "    </tr>\n",
       "  </tbody>\n",
       "</table>\n",
       "</div>"
      ],
      "text/plain": [
       "     DateTime_Measured  Total_Demand_KW\n",
       "0  2019-12-08 15:45:00             1347\n",
       "1  2019-12-08 15:30:00             1336\n",
       "2  2019-12-08 15:15:00             1332\n",
       "3  2019-12-08 15:00:00             1336\n",
       "4  2019-12-08 14:45:00             1324"
      ]
     },
     "execution_count": 2,
     "metadata": {},
     "output_type": "execute_result"
    }
   ],
   "source": [
    "import pandas\n",
    "from io import StringIO\n",
    "\n",
    "df = pandas.read_csv(StringIO(text))\n",
    "df.head()"
   ]
  },
  {
   "cell_type": "code",
   "execution_count": 3,
   "metadata": {},
   "outputs": [
    {
     "name": "stdout",
     "output_type": "stream",
     "text": [
      "datetime_utc_measured,total_demand_kw\n",
      "2019-06-20 15:50:00,1260\n",
      "2019-06-20 16:55:00,1274.4\n",
      "2019-06-20 22:05:00,1245.6\n",
      "2019-06-20 22:20:00,1173.6\n",
      "2019-06-21 05:10:00,979.2\n",
      "2019-06-21 05:15:00,957.6\n",
      "2019-06-21 05:20:00,993.6\n",
      "2019-06-21 05:25:00,979.2\n",
      "2019-06-21 05:30:00,986.4\n",
      "2019-06-21 06:05:00,993.6\n",
      "2019-06-21 06:10:00,993.6\n",
      "2019-06-21 07:50:00,1000.8\n",
      "2019-06-21 07:55:00,986.4\n",
      "2019-06-21 08:00:00,986.4\n",
      "2019-06-21 08:05:00,1008\n",
      "2019-06-21 08:10:00,993.6\n",
      "2019-06-21 08:15:00,993.6\n",
      "2019-06-21 08:50:00,986.4\n",
      "2019-06-21 08:55:00,972\n",
      "2019-06-21 09:00:00,972\n",
      "2019-06-21 09:05:00,1008\n",
      "2019-06-21 09:10:00,1000.8\n",
      "2019-06-21 09:30:00,986.4\n",
      "2019-06-21 09:35:00,1015.2\n",
      "2019-06-21 09:50:00,1008\n",
      "2019-06-21 09:55:00,1000.8\n",
      "2019-06-21 10:00:00,1015.2\n",
      "2019-06-21 10:05:00,1029.6\n",
      "2019-06-21 13:50:00,1216.8\n",
      "2019-06-21 15:40:00,1209.6\n",
      "2019-06-21 15:50:00,1245.6\n",
      "2019-06-21 17:20:00,1245.6\n",
      "2019-06-21 17:35:00,1260\n",
      "2018-06-26 02:25:00,698.4\n",
      "2018-06-26 02:30:00,705.6\n",
      "2018-06-26 02:35:00,691.2\n",
      "2018-06-26 02:40:00,70\n",
      "...\n",
      "9-06-20 13:15:00,1231.2\n",
      "2019-06-20 13:20:00,1231.2\n",
      "2019-06-20 13:25:00,1238.4\n",
      "2019-06-20 13:30:00,1231.2\n",
      "2019-06-20 13:35:00,1209.6\n",
      "2019-06-20 13:40:00,1209.6\n",
      "2019-06-20 13:45:00,1202.4\n",
      "2019-06-20 13:50:00,1202.4\n",
      "2019-06-20 13:55:00,1202.4\n",
      "2019-06-20 14:00:00,1209.6\n",
      "2019-06-20 14:05:00,1209.6\n",
      "2019-06-20 14:10:00,1188\n",
      "2019-06-20 14:15:00,1202.4\n",
      "2019-06-20 14:20:00,1108.8\n",
      "2019-06-20 14:25:00,1080\n",
      "2019-06-20 14:30:00,1116\n",
      "2019-06-20 14:35:00,1116\n",
      "2019-06-20 14:40:00,1123.2\n",
      "2019-06-20 14:45:00,1116\n",
      "\n"
     ]
    }
   ],
   "source": [
    "url2 ='https://data.boston.gov/dataset/652762e9-2556-47cd-8e80-798546992a57/resource/87c759ee-63b9-4aec-a00b-bba1672a20ef/download/tmpx80zw3rn.csv'\n",
    "req = requests.get(url2, timeout=3, allow_redirects=True)\n",
    "req.raise_for_status()\n",
    "text2 = req.text\n",
    "print(text2[:1000])\n",
    "print('...')\n",
    "print(text2[-500:])"
   ]
  },
  {
   "cell_type": "code",
   "execution_count": 4,
   "metadata": {},
   "outputs": [
    {
     "data": {
      "text/html": [
       "<div>\n",
       "<style scoped>\n",
       "    .dataframe tbody tr th:only-of-type {\n",
       "        vertical-align: middle;\n",
       "    }\n",
       "\n",
       "    .dataframe tbody tr th {\n",
       "        vertical-align: top;\n",
       "    }\n",
       "\n",
       "    .dataframe thead th {\n",
       "        text-align: right;\n",
       "    }\n",
       "</style>\n",
       "<table border=\"1\" class=\"dataframe\">\n",
       "  <thead>\n",
       "    <tr style=\"text-align: right;\">\n",
       "      <th></th>\n",
       "      <th>datetime_utc_measured</th>\n",
       "      <th>total_demand_kw</th>\n",
       "    </tr>\n",
       "  </thead>\n",
       "  <tbody>\n",
       "    <tr>\n",
       "      <th>0</th>\n",
       "      <td>2019-06-20 15:50:00</td>\n",
       "      <td>1260.0</td>\n",
       "    </tr>\n",
       "    <tr>\n",
       "      <th>1</th>\n",
       "      <td>2019-06-20 16:55:00</td>\n",
       "      <td>1274.4</td>\n",
       "    </tr>\n",
       "    <tr>\n",
       "      <th>2</th>\n",
       "      <td>2019-06-20 22:05:00</td>\n",
       "      <td>1245.6</td>\n",
       "    </tr>\n",
       "    <tr>\n",
       "      <th>3</th>\n",
       "      <td>2019-06-20 22:20:00</td>\n",
       "      <td>1173.6</td>\n",
       "    </tr>\n",
       "    <tr>\n",
       "      <th>4</th>\n",
       "      <td>2019-06-21 05:10:00</td>\n",
       "      <td>979.2</td>\n",
       "    </tr>\n",
       "  </tbody>\n",
       "</table>\n",
       "</div>"
      ],
      "text/plain": [
       "  datetime_utc_measured  total_demand_kw\n",
       "0   2019-06-20 15:50:00           1260.0\n",
       "1   2019-06-20 16:55:00           1274.4\n",
       "2   2019-06-20 22:05:00           1245.6\n",
       "3   2019-06-20 22:20:00           1173.6\n",
       "4   2019-06-21 05:10:00            979.2"
      ]
     },
     "execution_count": 4,
     "metadata": {},
     "output_type": "execute_result"
    }
   ],
   "source": [
    "import pandas\n",
    "from io import StringIO\n",
    "\n",
    "df2 = pandas.read_csv(StringIO(text2))\n",
    "df2.head()"
   ]
  },
  {
   "cell_type": "code",
   "execution_count": 6,
   "metadata": {},
   "outputs": [
    {
     "name": "stdout",
     "output_type": "stream",
     "text": [
      "Collecting pymongo\n",
      "\u001b[?25l  Downloading https://files.pythonhosted.org/packages/23/23/7666537adafcd232c88c156aa9382c859791d79bf12094005e009c2b6a3d/pymongo-3.9.0-cp37-cp37m-manylinux1_x86_64.whl (447kB)\n",
      "\u001b[K     |████████████████████████████████| 450kB 2.7MB/s eta 0:00:01\n",
      "\u001b[?25hInstalling collected packages: pymongo\n",
      "Successfully installed pymongo-3.9.0\n",
      "Note: you may need to restart the kernel to use updated packages.\n"
     ]
    }
   ],
   "source": [
    "pip install pymongo"
   ]
  },
  {
   "cell_type": "code",
   "execution_count": 6,
   "metadata": {},
   "outputs": [],
   "source": [
    "import pymongo\n",
    "\n",
    "client = pymongo.MongoClient()"
   ]
  },
  {
   "cell_type": "code",
   "execution_count": 7,
   "metadata": {},
   "outputs": [
    {
     "name": "stdout",
     "output_type": "stream",
     "text": [
      "rows=97898, update=48, insert=97850\n"
     ]
    }
   ],
   "source": [
    "db = client.get_database(\"cityhallpower\")\n",
    "collection = db.get_collection(\"cityhallpower\")\n",
    "update_count = 0\n",
    "for record in df.to_dict('records'):\n",
    "    result = collection.replace_one(\n",
    "        filter={'DateTime_Measured': record['DateTime_Measured']},    # locate the document if exists\n",
    "        replacement=record,                         # latest document\n",
    "        upsert=True)                                # update if exists, insert if not\n",
    "    if result.matched_count > 0:\n",
    "        update_count += 1\n",
    "print(f\"rows={df.shape[0]}, update={update_count}, \"\n",
    "      f\"insert={df.shape[0]-update_count}\")"
   ]
  },
  {
   "cell_type": "code",
   "execution_count": 4,
   "metadata": {},
   "outputs": [],
   "source": [
    "import pymongo\n",
    "\n",
    "client = pymongo.MongoClient()"
   ]
  },
  {
   "cell_type": "code",
   "execution_count": null,
   "metadata": {},
   "outputs": [],
   "source": [
    "db2 = client.get_database(\"librarypower\")\n",
    "collection = db2.get_collection(\"librarypower\")\n",
    "update_count = 0\n",
    "for record in df2.to_dict('records'):\n",
    "    result = collection.replace_one(\n",
    "        filter={'datetime_utc_measured': record['datetime_utc_measured']},    # locate the document if exists\n",
    "        replacement=record,                         # latest document\n",
    "        upsert=True)                                # update if exists, insert if not\n",
    "    if result.matched_count > 0:\n",
    "        update_count += 1\n",
    "print(f\"rows={df2.shape[0]}, update={update_count}, \"\n",
    "      f\"insert={df2.shape[0]-update_count}\")"
   ]
  },
  {
   "cell_type": "code",
   "execution_count": null,
   "metadata": {},
   "outputs": [],
   "source": []
  }
 ],
 "metadata": {
  "kernelspec": {
   "display_name": "Python 3",
   "language": "python",
   "name": "python3"
  },
  "language_info": {
   "codemirror_mode": {
    "name": "ipython",
    "version": 3
   },
   "file_extension": ".py",
   "mimetype": "text/x-python",
   "name": "python",
   "nbconvert_exporter": "python",
   "pygments_lexer": "ipython3",
   "version": "3.7.4"
  }
 },
 "nbformat": 4,
 "nbformat_minor": 4
}
